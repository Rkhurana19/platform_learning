{
 "cells": [
  {
   "cell_type": "code",
   "execution_count": 59,
   "id": "e352a026",
   "metadata": {},
   "outputs": [],
   "source": [
    "import math\n",
    "import numpy as np"
   ]
  },
  {
   "cell_type": "code",
   "execution_count": 27,
   "id": "240b8a64",
   "metadata": {},
   "outputs": [],
   "source": [
    "def problem_2():\n",
    "    # recurrence relation for even-valued terms: T(n) = 4T(n-1) + T(n-2) | T(0) = 0, T(1) = 2\n",
    "    \n",
    "    previous_even = 0\n",
    "    next_even = 2\n",
    "    total = 0\n",
    "    \n",
    "    while (next_even < 4000000):\n",
    "        total += next_even\n",
    "        \n",
    "        buffer = next_even\n",
    "        next_even = 4 * next_even + previous_even\n",
    "        previous_even = buffer\n",
    "        \n",
    "    print(\"Sum of even-valued Fibonacci terms is: \" + str(total))"
   ]
  },
  {
   "cell_type": "code",
   "execution_count": 28,
   "id": "96336106",
   "metadata": {},
   "outputs": [],
   "source": [
    "def problem_3():\n",
    "    # sieve of erathostenes gives us listing of prime numbers up to n\n",
    "    \n",
    "    def is_prime(n):\n",
    "        for j in range(2, int(math.sqrt(n)) + 1):\n",
    "            if (n % j == 0):\n",
    "                return False\n",
    "        \n",
    "        return True\n",
    "    \n",
    "    n = 600851475143\n",
    "    largest_prime = 2\n",
    "    \n",
    "    for i in range(2, int(math.sqrt(n) + 1)):\n",
    "        if (n % i == 0 and is_prime(i)):\n",
    "            largest_prime = i\n",
    "    \n",
    "    print(\"The largest prime factor of 600851475143 is: \" + str(largest_prime))"
   ]
  },
  {
   "cell_type": "code",
   "execution_count": 96,
   "id": "f6fc5f9c",
   "metadata": {},
   "outputs": [],
   "source": [
    "def problem_4():\n",
    "    # P contains at least 6 digits: 100000x + 10000y + 1000z + 100z + 10y + 1x\n",
    "    #                             : 100001x + 10010y + 1100z\n",
    "    #                             : 11 * (9091x + 910y + 100z)\n",
    "    \n",
    "    def is_palindrome(n):\n",
    "        reverse = 0\n",
    "        forward = n\n",
    "        while forward != 0:\n",
    "            reverse = reverse * 10 + forward % 10\n",
    "            forward = forward // 10\n",
    "        return n == reverse\n",
    "    \n",
    "    largest_palindrome = -1\n",
    "    start_range_a = 999\n",
    "    start_range_b = -1\n",
    "    delta_b = -1\n",
    "    \n",
    "    while (start_range_a >= 100):\n",
    "        if start_range_a % 11 == 0:\n",
    "            start_range_b = 999\n",
    "            delta_b = 1\n",
    "        else:\n",
    "            start_range_b = 990\n",
    "            delta_b = 11\n",
    "        \n",
    "        while (start_range_b >= start_range_a):\n",
    "            if (largest_palindrome != -1 and\n",
    "                start_range_a * start_range_b <= largest_palindrome):\n",
    "                break\n",
    "            \n",
    "            if is_palindrome(start_range_a * start_range_b):\n",
    "                largest_palindrome = start_range_a * start_range_b\n",
    "            \n",
    "            start_range_b -= delta_b\n",
    "        \n",
    "        start_range_a -= 1\n",
    "            \n",
    "    print(\"The largest palindrome from three-digit multiplication is: \" + str(largest_palindrome))"
   ]
  },
  {
   "cell_type": "code",
   "execution_count": 68,
   "id": "e8931da5",
   "metadata": {},
   "outputs": [],
   "source": [
    "def problem_5():\n",
    "    n = 20\n",
    "    \n",
    "    def list_primes():\n",
    "        is_prime = [True] * (n + 1)\n",
    "        is_prime[0] = is_prime[1] = False\n",
    "        \n",
    "        for i in range(2, n + 1):\n",
    "            if is_prime[i] and i * i <= n:\n",
    "                for j in range(i * i, n + 1, i):\n",
    "                    is_prime[j] = False;\n",
    "                    \n",
    "        return [num for num, prime in enumerate(is_prime) if prime]\n",
    "\n",
    "    def factorize(i):\n",
    "        primes = list_primes()\n",
    "        factorized_tally = {prime: 0 for prime in primes}\n",
    "        \n",
    "        for prime in primes:\n",
    "            while i % prime == 0:\n",
    "                factorized_tally[prime] += 1\n",
    "                i = i / prime\n",
    "        \n",
    "        return factorized_tally\n",
    "    \n",
    "    least_common_multiple_factored = {prime: 1 for prime in list_primes()}\n",
    "    for i in range(4, n + 1):\n",
    "        prime_tally = factorize(i);\n",
    "        for prime, count in prime_tally.items():\n",
    "            least_common_multiple_factored[prime] = \\\n",
    "                max(least_common_multiple_factored[prime], count)\n",
    "    \n",
    "    least_common_multiple = np.prod([value ** count for value, \n",
    "                                         count in least_common_multiple_factored.items()])\n",
    "    print(\"The LCM of numbers from 1 to {0} is {1}.\".format(n, least_common_multiple))"
   ]
  },
  {
   "cell_type": "code",
   "execution_count": 10,
   "id": "0a5f1680",
   "metadata": {},
   "outputs": [],
   "source": [
    "def problem_6():\n",
    "    n = 100\n",
    "    \n",
    "    sum_squares = (n * (n + 1) * (2 * n + 1)) / 6\n",
    "    sum_integers = (n * (n + 1)) / 2\n",
    "    difference = sum_integers * sum_integers - sum_squares\n",
    "    \n",
    "    print(\"The difference between the sum of the squares of the first \" + \n",
    "              \"{0} numbers and the square of the sum is {1}\".format(n, difference))"
   ]
  },
  {
   "cell_type": "code",
   "execution_count": 11,
   "id": "14679e45",
   "metadata": {},
   "outputs": [
    {
     "name": "stdout",
     "output_type": "stream",
     "text": [
      "The difference between the sum of the squares of the first 100 numbers and the square of the sum is 25164150.0\n"
     ]
    }
   ],
   "source": [
    "problem_6()"
   ]
  }
 ],
 "metadata": {
  "kernelspec": {
   "display_name": "Python 3",
   "language": "python",
   "name": "python3"
  },
  "language_info": {
   "codemirror_mode": {
    "name": "ipython",
    "version": 3
   },
   "file_extension": ".py",
   "mimetype": "text/x-python",
   "name": "python",
   "nbconvert_exporter": "python",
   "pygments_lexer": "ipython3",
   "version": "3.9.4"
  }
 },
 "nbformat": 4,
 "nbformat_minor": 5
}
