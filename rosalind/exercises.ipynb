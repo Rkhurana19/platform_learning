{
 "cells": [
  {
   "cell_type": "code",
   "execution_count": 4,
   "id": "0d2c83a4",
   "metadata": {},
   "outputs": [],
   "source": [
    "def counting_dna_nucleotides(sequence):\n",
    "    nucleotide_count = {\"A\": 0,\n",
    "                        \"C\": 0,\n",
    "                        \"T\": 0,\n",
    "                        \"G\": 0}\n",
    "    \n",
    "    for n in sequence:\n",
    "        nucleotide_count[n] += 1\n",
    "    \n",
    "    print(str(nucleotide_count[\"A\"]) + \" \" + str(nucleotide_count[\"C\"]) + \" \" +\n",
    "          str(nucleotide_count[\"G\"]) + \" \" + str(nucleotide_count[\"T\"]))"
   ]
  },
  {
   "cell_type": "code",
   "execution_count": 9,
   "id": "26b113fd",
   "metadata": {},
   "outputs": [],
   "source": [
    "def transcribe_coding_strand(sequence):\n",
    "    transcribed = sequence.replace(\"T\", \"U\")\n",
    "    print(transcribed)"
   ]
  },
  {
   "cell_type": "code",
   "execution_count": 15,
   "id": "0307ee6a",
   "metadata": {},
   "outputs": [],
   "source": [
    "def reverse_complement(sequence):\n",
    "    reverse = list(sequence[::-1])\n",
    "    for index, letter in enumerate(reverse):\n",
    "        if letter == 'A':\n",
    "            reverse[index] = 'T'\n",
    "        if letter == 'T':\n",
    "            reverse[index] = 'A'\n",
    "        if letter == 'C':\n",
    "            reverse[index] = 'G'\n",
    "        if letter == 'G':\n",
    "            reverse[index] = 'C'\n",
    "    reverse = ''.join(reverse)\n",
    "    print(reverse)"
   ]
  },
  {
   "cell_type": "code",
   "execution_count": 18,
   "id": "0ba03984",
   "metadata": {},
   "outputs": [],
   "source": [
    "def rabbit_recurrence(n, k):\n",
    "    previous_generation = 1\n",
    "    current_generation = 1\n",
    "    while n - 2 > 0:\n",
    "        buffer = current_generation\n",
    "        current_generation = current_generation + k * previous_generation\n",
    "        previous_generation = buffer\n",
    "        n -= 1\n",
    "    print(current_generation)"
   ]
  },
  {
   "cell_type": "code",
   "execution_count": 129,
   "id": "3bdc96a4",
   "metadata": {},
   "outputs": [],
   "source": [
    "def compute_gc_content():\n",
    "    content = {}\n",
    "    with open(\"datasets/rosalind_gc.txt\", \"r\") as f:\n",
    "        line = f.readline().strip()\n",
    "        \n",
    "        fasta_id = \"\"\n",
    "        while line != \"\":\n",
    "            if line[0] == \">\":\n",
    "                fasta_id = line[1:]\n",
    "                content[fasta_id] = \"\"\n",
    "            else:\n",
    "                content[fasta_id] += line\n",
    "                \n",
    "            line = f.readline().strip()\n",
    "    \n",
    "    largest = 0\n",
    "    largest_id = \"\"\n",
    "    for key, value in content.items():\n",
    "        gc_content = (value.count(\"C\") + value.count(\"G\")) / len(value) * 100\n",
    "        if gc_content > largest:\n",
    "            largest = gc_content\n",
    "            largest_id = key\n",
    "    \n",
    "    print(largest_id + \": \" + str(largest) + \"%\")"
   ]
  },
  {
   "cell_type": "code",
   "execution_count": 138,
   "id": "f1210085",
   "metadata": {},
   "outputs": [],
   "source": [
    "def hamming_distance(sequence_one, sequence_two):\n",
    "    distance = 0\n",
    "    for i in range(len(sequence_one)):\n",
    "        distance += sequence_one[i] != sequence_two[i]\n",
    "        \n",
    "    print(distance)"
   ]
  },
  {
   "cell_type": "code",
   "execution_count": null,
   "id": "63d9eea2",
   "metadata": {},
   "outputs": [],
   "source": []
  }
 ],
 "metadata": {
  "kernelspec": {
   "display_name": "Python 3",
   "language": "python",
   "name": "python3"
  },
  "language_info": {
   "codemirror_mode": {
    "name": "ipython",
    "version": 3
   },
   "file_extension": ".py",
   "mimetype": "text/x-python",
   "name": "python",
   "nbconvert_exporter": "python",
   "pygments_lexer": "ipython3",
   "version": "3.9.4"
  }
 },
 "nbformat": 4,
 "nbformat_minor": 5
}
